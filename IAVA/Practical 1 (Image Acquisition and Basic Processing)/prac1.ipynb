{
  "nbformat": 4,
  "nbformat_minor": 0,
  "metadata": {
    "colab": {
      "provenance": []
    },
    "kernelspec": {
      "name": "python3",
      "display_name": "Python 3"
    },
    "language_info": {
      "name": "python"
    }
  },
  "cells": [
    {
      "cell_type": "code",
      "source": [
        "#Image Acquisition and basic processing: Acquire and manipulate images(resize, crop , format conversion) using opencv"
      ],
      "metadata": {
        "id": "yMZ3B3FItdzi"
      },
      "execution_count": 12,
      "outputs": []
    },
    {
      "cell_type": "code",
      "execution_count": 13,
      "metadata": {
        "colab": {
          "base_uri": "https://localhost:8080/"
        },
        "id": "vhSqQWbkrVWi",
        "outputId": "bf581817-5247-4025-b65d-bf730b638216"
      },
      "outputs": [
        {
          "output_type": "stream",
          "name": "stdout",
          "text": [
            "Requirement already satisfied: opencv-python in /usr/local/lib/python3.10/dist-packages (4.10.0.84)\n",
            "Requirement already satisfied: numpy>=1.21.2 in /usr/local/lib/python3.10/dist-packages (from opencv-python) (1.26.4)\n"
          ]
        }
      ],
      "source": [
        "pip install opencv-python\n"
      ]
    },
    {
      "cell_type": "code",
      "source": [
        "import cv2\n",
        "from google.colab.patches import cv2_imshow\n",
        "\n",
        "# Step 1: Load an image from file (Image Acquisition)\n",
        "image = cv2.imread('/content/photo-1721332149274-586f2604884d.jpg')  # Replace with your image path\n",
        "\n",
        "# Step 2: Display the original image using cv2_imshow\n",
        "# cv2.imshow('Original Image', image) # This line is replaced with the line below\n",
        "#cv2_imshow(image) # Use cv2_imshow instead of cv2.imshow\n",
        "cv2.waitKey(0)"
      ],
      "metadata": {
        "colab": {
          "base_uri": "https://localhost:8080/"
        },
        "id": "kkjD-q_TrY3w",
        "outputId": "86fae609-5c14-4858-f8c6-34bce2118383"
      },
      "execution_count": 14,
      "outputs": [
        {
          "output_type": "execute_result",
          "data": {
            "text/plain": [
              "-1"
            ]
          },
          "metadata": {},
          "execution_count": 14
        }
      ]
    },
    {
      "cell_type": "code",
      "source": [
        "# Step 3: Resize the image (scaling down or up)\n",
        "# Resizing to a width of 400 pixels, maintaining the aspect ratio\n",
        "import cv2\n",
        "from google.colab.patches import cv2_imshow\n",
        "\n",
        "# Step 3: Resize the image (scaling down or up)\n",
        "# Resizing to a width of 400 pixels, maintaining the aspect ratio\n",
        "new_width = 400\n",
        "aspect_ratio = new_width / float(image.shape[1])\n",
        "new_height = int(image.shape[0] * aspect_ratio)\n",
        "resized_image = cv2.resize(image, (new_width, new_height))\n",
        "\n",
        "# Display resized image using cv2_imshow instead of cv2.imshow\n",
        "#cv2_imshow(resized_image) # Use cv2_imshow for displaying in Colab\n",
        "cv2.waitKey(0)"
      ],
      "metadata": {
        "colab": {
          "base_uri": "https://localhost:8080/"
        },
        "id": "A5i9iKJpr3vm",
        "outputId": "9a9742ec-eeef-492d-fd3c-bddaa840927f"
      },
      "execution_count": 15,
      "outputs": [
        {
          "output_type": "execute_result",
          "data": {
            "text/plain": [
              "-1"
            ]
          },
          "metadata": {},
          "execution_count": 15
        }
      ]
    },
    {
      "cell_type": "code",
      "source": [
        "# Step 4: Crop the image (Extract a Region of Interest, ROI)\n",
        "# Cropping a 100x100 pixel section starting from the top left corner (0, 0)\n",
        "cropped_image = image[0:100, 0:100]\n",
        "\n",
        "# Import cv2_imshow for displaying images in Colab\n",
        "from google.colab.patches import cv2_imshow\n",
        "\n",
        "# Display cropped image using cv2_imshow instead of cv2.imshow\n",
        "#cv2_imshow(cropped_image)  # Use cv2_imshow for displaying in Colab\n",
        "cv2.waitKey(0)\n",
        "\n"
      ],
      "metadata": {
        "colab": {
          "base_uri": "https://localhost:8080/"
        },
        "id": "QrmRR33Er7Ii",
        "outputId": "c6c9e1a2-ba06-4471-96c8-daf134fce27a"
      },
      "execution_count": 16,
      "outputs": [
        {
          "output_type": "execute_result",
          "data": {
            "text/plain": [
              "-1"
            ]
          },
          "metadata": {},
          "execution_count": 16
        }
      ]
    },
    {
      "cell_type": "code",
      "source": [
        "# Step 5: Convert image to grayscale (Format Conversion)\n",
        "gray_image = cv2.cvtColor(image, cv2.COLOR_BGR2GRAY)\n",
        "\n",
        "# Import the necessary function for displaying images in Colab\n",
        "from google.colab.patches import cv2_imshow\n",
        "\n",
        "# Display grayscale image using cv2_imshow instead of cv2.imshow\n",
        "#cv2_imshow(gray_image)  # Use cv2_imshow for displaying in Colab\n",
        "cv2.waitKey(0)"
      ],
      "metadata": {
        "colab": {
          "base_uri": "https://localhost:8080/"
        },
        "id": "duxdCmT5r8_x",
        "outputId": "f8818f43-55f0-4be9-d3ac-bef0e3c88aed"
      },
      "execution_count": 17,
      "outputs": [
        {
          "output_type": "execute_result",
          "data": {
            "text/plain": [
              "-1"
            ]
          },
          "metadata": {},
          "execution_count": 17
        }
      ]
    },
    {
      "cell_type": "code",
      "source": [
        "# Step 6: Save the processed images\n",
        "#cv2.imwrite('resized_image.jpg', resized_image)\n",
        "#cv2.imwrite('cropped_image.jpg', cropped_image)\n",
        "#cv2.imwrite('gray_image.jpg', gray_image)\n",
        "\n"
      ],
      "metadata": {
        "id": "IWo4ib5xr_NN"
      },
      "execution_count": 18,
      "outputs": []
    },
    {
      "cell_type": "code",
      "source": [
        "# Step 7: Clean up windows\n",
        "#cv2.destroyAllWindows()"
      ],
      "metadata": {
        "id": "z68l22BMsAmg"
      },
      "execution_count": 19,
      "outputs": []
    }
  ]
}